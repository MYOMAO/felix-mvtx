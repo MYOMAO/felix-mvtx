{
 "cells": [
  {
   "cell_type": "code",
   "execution_count": null,
   "metadata": {
    "autoscroll": "json-false",
    "ein.tags": [
     "worksheet-0"
    ]
   },
   "outputs": [],
   "source": [
    "%load_ext autoreload\n",
    "%autoreload 2\n",
    "%matplotlib inline"
   ]
  },
  {
   "cell_type": "code",
   "execution_count": null,
   "metadata": {
    "autoscroll": "json-false",
    "ein.tags": [
     "worksheet-0"
    ]
   },
   "outputs": [],
   "source": [
    "import re\n",
    "import os\n",
    "import sys\n",
    "\n",
    "import matplotlib as MPL\n",
    "from matplotlib import pyplot as PLT\n",
    "from matplotlib import cm as CM\n",
    "from matplotlib import mlab as ML\n",
    "from matplotlib import colors, ticker\n",
    "from matplotlib.ticker import LogFormatter\n",
    "from scipy.interpolate import griddata\n",
    "import numpy as NP\n",
    "\n",
    "script_path = '.'\n",
    "modules_path = os.path.join(\n",
    "    script_path, '../../modules/board_support_software/software/py/')\n",
    "sys.path.append(modules_path)\n",
    "\n",
    "import alpide_eye_plot"
   ]
  },
  {
   "cell_type": "code",
   "execution_count": null,
   "metadata": {
    "scrolled": true
   },
   "outputs": [],
   "source": [
    "cm = CM.jet\n",
    "csv_directory = 'eyes_csv'\n",
    "out_directory = 'eyes_plot'\n",
    "save = False\n",
    "alpide_eye_plot.main(csv_directory, out_directory, cm, save)"
   ]
  },
  {
   "cell_type": "code",
   "execution_count": null,
   "metadata": {},
   "outputs": [],
   "source": [
    "filenames = ['Test_eyescan_lab','Test_eyescan_lab']\n",
    "for idx,filename in enumerate(filenames):\n",
    "    table = load_data(filename + '.csv')\n",
    "    draw_plot(table,figure=idx,voltage_codes=2.8,title=filename)"
   ]
  },
  {
   "cell_type": "code",
   "execution_count": null,
   "metadata": {
    "scrolled": false
   },
   "outputs": [],
   "source": [
    "cm = CM.jet\n",
    "tofile = True\n",
    "# switched to sequential colormap to improve visualisation (https://matplotlib.org/users/colormaps.html#mycarta-banding)\n",
    "\n",
    "#811\n",
    "filename = 'RUv1_newcabletest_side_bob_chip8_dac811'\n",
    "table = load_data(filename + '.csv')\n",
    "draw_plot(table,figure=1,voltage_codes=1.5, colormap=cm)\n",
    "if tofile:\n",
    "    PLT.savefig(filename + '.pdf',format='pdf')\n",
    "\n",
    "filename = 'RUv1_newcabletest_side_alice_chip8_dac811'\n",
    "table = load_data(filename + '.csv')\n",
    "draw_plot(table,figure=2,voltage_codes=1.5, colormap=cm)\n",
    "if tofile:\n",
    "    PLT.savefig(filename + '.pdf',format='pdf')\n",
    "\n",
    "# 880 \n",
    "filename = 'RUv1_newcabletest_side_bob_chip8_dac880'\n",
    "table = load_data(filename + '.csv')\n",
    "draw_plot(table,figure=3,voltage_codes=1.5, colormap=cm)\n",
    "if tofile:\n",
    "    PLT.savefig(filename + '.pdf',format='pdf')\n",
    "\n",
    "filename = 'RUv1_newcabletest_side_alice_chip8_dac880'\n",
    "table = load_data(filename + '.csv')\n",
    "draw_plot(table,figure=4,voltage_codes=1.5, colormap=cm)\n",
    "if tofile:\n",
    "    PLT.savefig(filename + '.pdf',format='pdf')\n",
    "\n",
    "#881\n",
    "filename = 'RUv1_newcabletest_side_bob_chip8_dac881'\n",
    "table = load_data(filename + '.csv')\n",
    "draw_plot(table,figure=5,voltage_codes=1.5, colormap=cm)\n",
    "if tofile:\n",
    "    PLT.savefig(filename + '.pdf',format='pdf')\n",
    "\n",
    "filename = 'RUv1_newcabletest_side_alice_chip8_dac881'\n",
    "table = load_data(filename + '.csv')\n",
    "draw_plot(table,figure=6,voltage_codes=1.5, colormap=cm)\n",
    "if tofile:\n",
    "    PLT.savefig(filename + '.pdf',format='pdf')\n",
    "\n",
    "#888\n",
    "filename = 'RUv1_newcabletest_side_bob_chip8_dac888'\n",
    "table = load_data(filename + '.csv')\n",
    "draw_plot(table,figure=7, colormap=cm)\n",
    "if tofile:\n",
    "    PLT.savefig(filename + '.pdf',format='pdf')\n",
    "\n",
    "filename = 'RUv1_newcabletest_side_alice_chip8_dac888'\n",
    "table = load_data(filename + '.csv')\n",
    "draw_plot(table,figure=8, colormap=cm)\n",
    "if tofile:\n",
    "    PLT.savefig(filename + '.pdf',format='pdf')\n",
    "\n",
    "filename = 'RUv1_master_newcable_side_alice_eye_chip8'\n",
    "table = load_data(filename + '.csv')\n",
    "draw_plot(table,figure=9, colormap=cm)\n",
    "if tofile:\n",
    "    PLT.savefig(filename + '.pdf',format='pdf')\n",
    "    \n",
    "#88A    \n",
    "filename = 'RUv1_newcabletest_side_alice_chip8_dac88A'\n",
    "table = load_data(filename + '.csv')\n",
    "draw_plot(table,figure=11, colormap=cm)\n",
    "if tofile:\n",
    "    PLT.savefig(filename + '.pdf',format='pdf')    \n",
    "    \n",
    "#888 old\n",
    "filename = 'RUv1_localclk_eye_chip8'\n",
    "table = load_data(filename + '.csv')\n",
    "draw_plot(table,figure=10, colormap=cm)\n",
    "if tofile:\n",
    "    PLT.savefig(filename + '.pdf',format='pdf')\n",
    "    \n",
    "#88B    \n",
    "filename = 'RUv1_newcabletest_side_alice_chip8_dac88B'\n",
    "table = load_data(filename + '.csv')\n",
    "draw_plot(table,figure=12, colormap=cm)\n",
    "if tofile:\n",
    "    PLT.savefig(filename + '.pdf',format='pdf')"
   ]
  },
  {
   "cell_type": "code",
   "execution_count": null,
   "metadata": {},
   "outputs": [],
   "source": [
    "table = load_data('RUv1_gbtxclk_eye_chip8.csv')\n",
    "draw_plot(table,figure=1,colormap=cm)\n",
    "\n",
    "table = load_data('RUv1_localclk_eye_chip8.csv')\n",
    "draw_plot(table,figure=2,colormap=cm)"
   ]
  },
  {
   "cell_type": "code",
   "execution_count": null,
   "metadata": {
    "autoscroll": "json-false",
    "ein.tags": [
     "worksheet-0"
    ]
   },
   "outputs": [],
   "source": [
    "table = load_data('R28_dr1_pre1_1v8_002.csv')\n",
    "draw_plot(table,figure=1)\n",
    "table= load_data('R28_dr1_pre1_1v8_003.csv')\n",
    "draw_plot(table,figure=2)\n",
    "table = load_data('R28_dr1_pre1_1v8_disturbance_004.csv')\n",
    "draw_plot(table,figure=3)\n",
    "table = load_data('R28_dr1_pre0_1v8_disturbance_005.csv')\n",
    "draw_plot(table,figure=4)\n",
    "\n",
    "#PLT.show()"
   ]
  },
  {
   "cell_type": "code",
   "execution_count": null,
   "metadata": {
    "ein.tags": [
     "worksheet-0"
    ]
   },
   "outputs": [],
   "source": [
    "table = load_data('R28_dr1_pre0_1v8_disturbance_005.csv')\n",
    "draw_plot(table,figure=3)\n",
    "\n",
    "PLT.show()"
   ]
  },
  {
   "cell_type": "code",
   "execution_count": null,
   "metadata": {},
   "outputs": [],
   "source": [
    "table = load_data('R28_dr1_pre1_1v8_003.csv')\n",
    "draw_plot(table,figure=1)\n",
    "PLT.savefig('R28_dr1_pre1_1v8_003.eps',format='eps')"
   ]
  },
  {
   "cell_type": "code",
   "execution_count": null,
   "metadata": {},
   "outputs": [],
   "source": [
    "# Compare Direct clock with seperated clocks\n",
    "table = load_data('R28_dr1_pre1_1v8_002.csv')\n",
    "draw_plot(table,figure=1)\n",
    "table= load_data('0001_clockssep_R28_dr1_pre1_1v8.csv')\n",
    "draw_plot(table,figure=2)"
   ]
  },
  {
   "cell_type": "code",
   "execution_count": null,
   "metadata": {},
   "outputs": [],
   "source": [
    "table= load_data('0001_clockssep_R28_dr1_pre1_1v8.csv')\n",
    "draw_plot(table,figure=1)\n",
    "table= load_data('0007_clockssep_160_2125Mhz_R28_dr1_pre1_1v8_aptive.csv')\n",
    "draw_plot(table,figure=2)\n",
    "table= load_data('0008_clockssep_159_7875Mhz_R28_dr1_pre1_1v8_aptive.csv')\n",
    "draw_plot(table,figure=3)"
   ]
  },
  {
   "cell_type": "code",
   "execution_count": null,
   "metadata": {},
   "outputs": [],
   "source": [
    "\n",
    "table= load_data('0008_clockssep_159_7875Mhz_R28_dr1_pre1_1v8_aptive.csv')\n",
    "draw_plot(table,figure=1)\n",
    "table= load_data('0009_clockssep_159_7875Mhz_R28_dr1_pre1_1v8_activity_aptive.csv')\n",
    "draw_plot(table,figure=2)"
   ]
  },
  {
   "cell_type": "code",
   "execution_count": null,
   "metadata": {},
   "outputs": [],
   "source": [
    "# Crosstalk test\n",
    "table= load_data('0014_hsclockcrossing_reference_chmid_11_other_00.csv')\n",
    "draw_plot(table,figure=1)\n",
    "table= load_data('0015_hsclockcrossing_reference_chmid_11_other_FF.csv')\n",
    "draw_plot(table,figure=2)\n",
    "table= load_data('0016_hsclockcrossing_reference_chmid_33_other_FF.csv')\n",
    "draw_plot(table,figure=3)"
   ]
  },
  {
   "cell_type": "code",
   "execution_count": null,
   "metadata": {},
   "outputs": [],
   "source": [
    "# Crosstalk test\n",
    "table= load_data('0017_hsclockcrossing_reference_chmid_33_other_FF.csv')\n",
    "draw_plot(table,figure=1)\n",
    "table= load_data('0018_hsclockcrossing_reference_chmid_33_other_00.csv')\n",
    "draw_plot(table,figure=2)"
   ]
  },
  {
   "cell_type": "code",
   "execution_count": null,
   "metadata": {},
   "outputs": [],
   "source": []
  },
  {
   "cell_type": "code",
   "execution_count": null,
   "metadata": {},
   "outputs": [],
   "source": [
    "with open('0014_hsclockcrossing_reference_chmid_11_other_00.csv','r') as f:\n",
    "    for line in f:\n",
    "        print(line)"
   ]
  },
  {
   "cell_type": "code",
   "execution_count": null,
   "metadata": {},
   "outputs": [],
   "source": []
  },
  {
   "cell_type": "code",
   "execution_count": null,
   "metadata": {},
   "outputs": [],
   "source": [
    "def sample2ber(samples,errors):\n",
    "    if errors > 0:\n",
    "        return errors/samples\n",
    "    else:\n",
    "        return 1/samples\n",
    "\n",
    "def slice_table(table,x_slice=0):\n",
    "    sliced = {y:(sample,error) for (x,y),(sample,error) in table.items() if x==x_slice}\n",
    "\n",
    "    bers = {key: sample2ber(samples,errors) for key,(samples,errors) in sliced.items()}\n",
    "    x = sorted(list(bers.keys()))\n",
    "    y = [bers[ax] for ax in x]\n",
    "    return (x,y)"
   ]
  },
  {
   "cell_type": "code",
   "execution_count": null,
   "metadata": {},
   "outputs": [],
   "source": [
    "table_nct= table#load_data('0018_hsclockcrossing_reference_chmid_33_other_00.csv')\n",
    "table_ct= table#load_data('0017_hsclockcrossing_reference_chmid_33_other_FF.csv')\n",
    "\n",
    "max_samples_nct = max([samples for (x,y),(samples,errors) in table_nct.items() if errors==0])\n",
    "max_samples_ct = max([samples for (x,y),(samples,errors) in table_ct.items() if errors==0])\n",
    "\n",
    "(x1,y1) = slice_table(table_nct,x_slice=-8)\n",
    "(x2,y2) = slice_table(table_ct,x_slice=-8)\n",
    "\n",
    "fig = PLT.figure()\n",
    "ax = PLT.gca()\n",
    "ax.plot(x2 ,y2,'.-',label='Others On')\n",
    "ax.plot(x1 ,y1,'.-',label='Others Off')\n",
    "ax.set_yscale('log')\n",
    "PLT.axhline(y=1/max_samples_nct,label=\"Lower Bound\",ls='--')\n",
    "#PLT.axhline(y=1/max_samples_ct,label=\"Lower Bound\",ls='--')\n",
    "su\n",
    "PLT.xlabel('Vertical Offset (counts)')\n",
    "PLT.ylabel('BER')\n",
    "PLT.title('Vertical slice of BER at x=0')\n",
    "PLT.legend(loc=\"center right\",shadow=True, fancybox=True)"
   ]
  },
  {
   "cell_type": "code",
   "execution_count": null,
   "metadata": {},
   "outputs": [],
   "source": [
    "PLT.style.use('ggplot')"
   ]
  },
  {
   "cell_type": "code",
   "execution_count": null,
   "metadata": {},
   "outputs": [],
   "source": [
    "h_steps = 32\n",
    "v_steps = 32\n",
    "range_i = range(-h_steps, h_steps + 1)\n",
    "range_j = range(-v_steps, v_steps + 1)\n",
    "\n",
    "\n",
    "range_i = [x for t in zip(range(h_steps,0,-1),[-i for i in range(h_steps,0,-1)]) for x in t] + [0]\n",
    "range_j = [x for t in zip(range(v_steps,0,-1),[-i for i in range(v_steps,0,-1)]) for x in t] + [0]\n",
    "\n",
    "print(list(range_i))\n",
    "print(list(range_j))"
   ]
  },
  {
   "cell_type": "code",
   "execution_count": null,
   "metadata": {},
   "outputs": [],
   "source": []
  }
 ],
 "metadata": {
  "anaconda-cloud": {},
  "kernelspec": {
   "display_name": "Python 3",
   "language": "python",
   "name": "python3"
  },
  "language_info": {
   "codemirror_mode": {
    "name": "ipython",
    "version": 3
   },
   "file_extension": ".py",
   "mimetype": "text/x-python",
   "name": "python",
   "nbconvert_exporter": "python",
   "pygments_lexer": "ipython3",
   "version": "3.7.1"
  },
  "name": "alpide_eye_plot.ipynb"
 },
 "nbformat": 4,
 "nbformat_minor": 1
}
