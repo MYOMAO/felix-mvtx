{
 "cells": [
  {
   "cell_type": "code",
   "execution_count": null,
   "metadata": {
    "autoscroll": "json-false",
    "ein.tags": [
     "worksheet-0"
    ]
   },
   "outputs": [],
   "source": [
    "# imports\n",
    "%load_ext autoreload\n",
    "%autoreload 2"
   ]
  },
  {
   "cell_type": "code",
   "execution_count": null,
   "metadata": {
    "autoscroll": "json-false",
    "ein.tags": [
     "worksheet-0"
    ]
   },
   "outputs": [],
   "source": [
    "import sys\n",
    "import pprint\n",
    "\n",
    "sys.path.append('../../modules/board_support_software/software/py/')\n",
    "sys.path.append('../py/')\n",
    "from module_includes import *\n",
    "\n",
    "from pALPIDE import *\n",
    "from communication import WishboneReadError, AddressMismatchError\n",
    "\n",
    "import communication\n",
    "import ru_eyescan\n",
    "import testbench"
   ]
  },
  {
   "cell_type": "code",
   "execution_count": null,
   "metadata": {},
   "outputs": [],
   "source": [
    "RUN_STANDALONE=True\n",
    "config_file_path = script_path + '/../config/testbench_ibs.yml'\n",
    "tb = testbench.configure_testbench(config_file_path=config_file_path,\n",
    "                                   run_standalone=RUN_STANDALONE)\n",
    "tb.cru.initialize()\n",
    "tb.initialize_all_rdos()"
   ]
  },
  {
   "cell_type": "code",
   "execution_count": null,
   "metadata": {},
   "outputs": [],
   "source": [
    "ch = Alpide(tb.rdo, chipid=0x00)\n",
    "ch.reset()\n",
    "ch.configure_dtu()"
   ]
  },
  {
   "cell_type": "code",
   "execution_count": null,
   "metadata": {},
   "outputs": [],
   "source": [
    "ch.setreg_dtu_dacs(PLLDAC=8,DriverDAC=4,PreDAC=4)"
   ]
  },
  {
   "cell_type": "code",
   "execution_count": null,
   "metadata": {},
   "outputs": [],
   "source": [
    "ch.setreg_dtu_test_1(TestEN=True,IntPatternEN=True,PrbsRate=0,Bypass8b10b=True)"
   ]
  },
  {
   "cell_type": "code",
   "execution_count": null,
   "metadata": {},
   "outputs": [],
   "source": [
    "def pattern30(ch,pattern):\n",
    "    ch.setreg_dtu_test_1(TestEN=True,IntPatternEN=False,PrbsRate=0,Bypass8b10b=True,BDIN8b10b0=pattern>>8&3,BDIN8b10b1=pattern>>18&3,BDIN8b10b2=pattern>>28&3)\n",
    "    ch.setreg_dtu_test_2(DIN0=pattern&255,DIN1=pattern>>10&255)\n",
    "    ch.setreg_dtu_test_3(DIN2=pattern>>20&255)\n",
    "pattern30(ch,0b11101110001110111)"
   ]
  },
  {
   "cell_type": "code",
   "execution_count": null,
   "metadata": {},
   "outputs": [],
   "source": [
    "ch.setreg_dtu_test_2()\n",
    "ch.setreg_dtu_test_1(TestEN=True,IntPatternEN=False,PrbsRate=0,Bypass8b10b=True)"
   ]
  },
  {
   "cell_type": "code",
   "execution_count": null,
   "metadata": {
    "scrolled": true
   },
   "outputs": [],
   "source": [
    "ch.propagate_clock()"
   ]
  },
  {
   "cell_type": "code",
   "execution_count": null,
   "metadata": {
    "autoscroll": "json-false",
    "ein.tags": [
     "worksheet-0"
    ]
   },
   "outputs": [],
   "source": [
    "## Setup\n",
    "PllDac = 0x8\n",
    "DriverDac= 0x8\n",
    "PreDac = 0x8\n",
    "SENSORS = [0] # Active Sensors\n",
    "TRANSCEIVERS = [0] # Active Transceivers (Transeivers are mapped inversely? to sensors: ChipId0 => Tr8, ChipId8 -> Tr0)\n",
    "USE_PRBS_SCAN = True # Run PRBS pattern on sensor during scan\n",
    "\n",
    "EYESCAN_FILE = 'Test_eyescan_flp.csv'\n",
    "EYESCAN_TRANSCEIVER = 0 # Transceiver to be used for the scan\n",
    "HSTEPS = 16 # Number of horizontal points\n",
    "VSTEPS = 16 # Nomber of vertical points\n",
    "VERTICAL_RANGE = 3 # Voltage resolution per code: 00 -> 1.5mV, 01 -> 1.8mV, 10 -> 2.2mV, 11 -> 2.8mV\n",
    "PRESCALE = 6 # Starting prescale. Max Nr. samples per point: 20 * 2**16 * 2**(1 + prescale)\n",
    "BER = 8 # Maximum Prescale to scan to\n",
    "NO_CENTER = True # Skip Center points (after successive 0 samples are found on this Prescale, following points are ignored)\n",
    "\n",
    "tb.rdo.gth.set_transceivers(TRANSCEIVERS)\n",
    "ch = Alpide(tb.rdo, chipid=0x0F)\n",
    "ch.reset()\n",
    "tb.setup_sensors(disable_manchester=0)\n",
    "ch.setreg_dtu_dacs(PLLDAC=PllDac,DriverDAC=DriverDac,PreDAC=PreDac)\n",
    "\n",
    "def check_errors():\n",
    "    if USE_PRBS_SCAN:\n",
    "        prbs_errors = tb.rdo.gth.read_prbs_counter(reset=True)\n",
    "        all_errors = 0\n",
    "        for cnt, link in zip(prbs_errors, tb.rdo.gth.transceivers):\n",
    "            if cnt > 0:\n",
    "                tb.logger.error(\n",
    "                    \"Link %d: %d PRBS Errors observed\", link, cnt)\n",
    "            all_errors += cnt\n",
    "        tb.logger.info(\"PRBS run finished. Total Errors: %d\", all_errors)\n",
    "        return all_errors\n",
    "    else:\n",
    "        decode_errors = tb.rdo.datapathmon.read_counters(counters=['DECODE_ERROR_COUNT'])\n",
    "        all_errors = 0\n",
    "        for lane,count in decode_errors:\n",
    "            if count['DECODE_ERROR_COUNT'] > 0:\n",
    "                tb.logger.error(\"Link %d: %d Decoding Errors observed\", link, cnt)\n",
    "                all_errors += cnt\n",
    "        return all_errors\n",
    "\n",
    "\n",
    "tb.rdo.initialize()\n",
    "tb.setup_readout()\n",
    "\n",
    "if USE_PRBS_SCAN:\n",
    "    tb.setup_prbs_test(SENSORS)\n",
    "\n",
    "# Check prbs is setup properly\n",
    "time.sleep(4)\n",
    "\n",
    "assert check_errors() == 0, \"Errors in Stream: Not set up?\""
   ]
  },
  {
   "cell_type": "code",
   "execution_count": null,
   "metadata": {
    "autoscroll": "json-false",
    "ein.tags": [
     "worksheet-0"
    ],
    "scrolled": true
   },
   "outputs": [],
   "source": [
    "transceiver = 0\n",
    "tb.rdo.gth.set_transceivers([EYESCAN_TRANSCEIVER])\n",
    "eyescan = ru_eyescan.EyeScanGth(tb.rdo.gth, vertical_range=VERTICAL_RANGE) # vertical range (division of voltage DAC)\n",
    "eyescan.initialize()\n",
    "eyescan._eye_scan_point_setup(offset_h=0,offset_v=0,prescale=0,ut_sign=0,readback=True)\n",
    "eyescan._eye_scan_point_start()\n",
    "time.sleep(0.3)\n",
    "assert eyescan._is_eye_scan_point_done(), \"Eyescan not yet done. Took too long\"\n",
    "assert eyescan._read_counts()[1]==0, \"Not aligned, restart from initialize_readout\""
   ]
  },
  {
   "cell_type": "code",
   "execution_count": null,
   "metadata": {
    "autoscroll": "json-false",
    "ein.tags": [
     "worksheet-0"
    ],
    "scrolled": false
   },
   "outputs": [],
   "source": [
    "# Adaptive eye scanning with PRBS in background on all chips\n",
    "tb.rdo.gth.set_transceivers(TRANSCEIVERS)\n",
    "tb.rdo.datapathmon.reset_counters()\n",
    "tb.rdo.gth.reset_prbs_counter()\n",
    "start = time.time()\n",
    "\n",
    "tb.rdo.gth.set_transceivers([EYESCAN_TRANSCEIVER])\n",
    "\n",
    "# Adaptive Eye scanning\n",
    "func = None\n",
    "#func = bathtub_func\n",
    "filename = EYESCAN_FILE\n",
    "resume = False\n",
    "verbose = False\n",
    "\n",
    "data = eyescan.eye_scan_adaptive(v_steps = VSTEPS, \n",
    "                                 h_steps = HSTEPS,\n",
    "                                 prescale = PRESCALE, \n",
    "                                 ber=BER, \n",
    "                                 resume = resume,\n",
    "                                 output_file_name=filename, \n",
    "                                 verbose=verbose,\n",
    "                                 func=func,\n",
    "                                 no_center=NO_CENTER)\n",
    "\n",
    "tb.rdo.gth.set_transceivers(TRANSCEIVERS)\n",
    "errors = check_errors()\n",
    "print(f\"After {time.time()-start:.2f} s, {errors} errors\")"
   ]
  },
  {
   "cell_type": "code",
   "execution_count": null,
   "metadata": {},
   "outputs": [],
   "source": []
  }
 ],
 "metadata": {
  "anaconda-cloud": {},
  "kernelspec": {
   "display_name": "Python 3",
   "language": "python",
   "name": "python3"
  },
  "language_info": {
   "codemirror_mode": {
    "name": "ipython",
    "version": 3
   },
   "file_extension": ".py",
   "mimetype": "text/x-python",
   "name": "python",
   "nbconvert_exporter": "python",
   "pygments_lexer": "ipython3",
   "version": "3.7.1"
  },
  "name": "alpide_eye_scan.ipynb"
 },
 "nbformat": 4,
 "nbformat_minor": 1
}
