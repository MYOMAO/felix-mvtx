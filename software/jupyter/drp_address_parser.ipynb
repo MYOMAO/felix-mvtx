{
 "cells": [
  {
   "cell_type": "markdown",
   "metadata": {},
   "source": [
    "# Definitions "
   ]
  },
  {
   "cell_type": "code",
   "execution_count": null,
   "metadata": {},
   "outputs": [],
   "source": [
    "# (https://www.xilinx.com/support/documentation/user_guides/ug576-ultrascale-gth-transceivers.pdf)\n",
    "columns = ['DRP Address (Hex)','DRP Bits','R/W','Attribute Name','Attribute Bits','Attribute Encoding','DRP Encoding']\n",
    "\n",
    "# p373 and following\n",
    "filepath_channel = 'drp/u576_p373.csv'\n",
    "# p352 and follwing\n",
    "filepath_common = 'drp/u576_p352.csv'"
   ]
  },
  {
   "cell_type": "code",
   "execution_count": null,
   "metadata": {},
   "outputs": [],
   "source": [
    "import pandas as pd\n",
    "import re\n",
    "\n",
    "single = re.compile(r'\\[(\\d*)\\]')\n",
    "double = re.compile(r'\\[(\\d*):(\\d*)\\]')"
   ]
  },
  {
   "cell_type": "markdown",
   "metadata": {},
   "source": [
    "# Parse file"
   ]
  },
  {
   "cell_type": "code",
   "execution_count": null,
   "metadata": {},
   "outputs": [],
   "source": [
    "df_channel = pd.read_csv(filepath_channel, sep=\";\", names=columns)\n",
    "df_common = pd.read_csv(filepath_common, sep=\";\", names=columns)"
   ]
  },
  {
   "cell_type": "markdown",
   "metadata": {},
   "source": [
    "# Channel"
   ]
  },
  {
   "cell_type": "code",
   "execution_count": null,
   "metadata": {},
   "outputs": [],
   "source": [
    "df = df_channel\n",
    "name = 'channel'\n",
    "outputfile = f'../../modules/board_support_software/software/py/ru_gthe3_{name}_drp_mapping.py'"
   ]
  },
  {
   "cell_type": "markdown",
   "metadata": {},
   "source": [
    "### Handle duplicated cells"
   ]
  },
  {
   "cell_type": "code",
   "execution_count": null,
   "metadata": {},
   "outputs": [],
   "source": [
    "duplicates = ['RX_PRBS_ERR_CNT']\n",
    "\n",
    "prev_nam = None\n",
    "for index, row in df.iterrows():\n",
    "    nam = row[columns[3]]\n",
    "    if nam in duplicates:\n",
    "        if nam != prev_nam:\n",
    "            df.iloc[index][columns[3]] += '_LOW'\n",
    "        else:\n",
    "            df.iloc[index][columns[3]] += '_HIGH'\n",
    "        print(df.iloc[index][columns[3]])\n",
    "    prev_nam = nam"
   ]
  },
  {
   "cell_type": "markdown",
   "metadata": {},
   "source": [
    "### Create File Header"
   ]
  },
  {
   "cell_type": "code",
   "execution_count": null,
   "metadata": {},
   "outputs": [],
   "source": [
    "outstr = \"\"\n",
    "outstr += f'\\\"\\\"\\\"Memory Mapping for the DRP port of the {name} auto-generated from\\n'\n",
    "outstr += f'https://www.xilinx.com/support/documentation/user_guides/ug576-ultrascale-gth-transceivers.pdf P373\\n'\n",
    "outstr += f'UG576 (v1.6) August 26, 2019\\\"\\\"\\\"\\n'\n",
    "outstr += '\\n'\n",
    "outstr += 'from aenum import Enum, NoAlias\\n'\n",
    "outstr += 'from enum import IntEnum\\n'\n",
    "outstr += '\\n'\n",
    "with open(outputfile,'w') as f:\n",
    "    f.write(outstr)"
   ]
  },
  {
   "cell_type": "markdown",
   "metadata": {},
   "source": [
    "### Create memory mapping"
   ]
  },
  {
   "cell_type": "code",
   "execution_count": null,
   "metadata": {},
   "outputs": [],
   "source": [
    "outstr_na = \"\"\n",
    "outstr_wa = \"\"\n",
    "\n",
    "prev_nam, prev_add = None, None\n",
    "\n",
    "outstr_na += \"class Gthe3ChannelAddress(Enum):\\n\"\n",
    "outstr_na += \"    \\\"\\\"\\\"\\n\"\n",
    "outstr_na += \"    Class implementing the address as distinct elements.\\n\"\n",
    "outstr_na += \"    Iteration will run through all addresses.\\n\"\n",
    "outstr_na += \"    \\\"\\\"\\\"\\n\"\n",
    "outstr_na += \"    _settings_ = NoAlias\\n\"\n",
    "outstr_na += '\\n'\n",
    "\n",
    "outstr_wa += \"\\n\"   \n",
    "outstr_wa += \"\\n\"\n",
    "outstr_wa += \"class Gthe3ChannelAddressAliases(IntEnum):\\n\"\n",
    "outstr_wa += \"    \\\"\\\"\\\"\\n\"\n",
    "outstr_wa += \"    Class implementing the address as distinct elements.\\n\"\n",
    "outstr_wa += \"    Iteration will run through each address only once.\\n\"\n",
    "outstr_wa += \"    \\\"\\\"\\\"\\n\"\n",
    "\n",
    "for index, row in df.iterrows():\n",
    "    nam = row[columns[3]]\n",
    "    add = int(row[columns[0]][:-1],16)\n",
    "    if (nam,add) != (prev_nam, prev_add):\n",
    "        msg = f\"    {nam} = {add}\\n\"\n",
    "        outstr_na += msg\n",
    "        outstr_wa += msg\n",
    "    prev_nam = nam\n",
    "    prev_add = add\n",
    "\n",
    "with open(outputfile,'a') as f:\n",
    "    f.write(outstr_na)\n",
    "    f.write(outstr_wa)"
   ]
  },
  {
   "cell_type": "code",
   "execution_count": null,
   "metadata": {},
   "outputs": [],
   "source": [
    "outstr_l = \"\"\n",
    "outstr_w = \"\"\n",
    "\n",
    "prev_nam, prev_bits = None, None\n",
    "outstr_l += \"\\n\"   \n",
    "outstr_l += \"\\n\"\n",
    "outstr_l += \"class Gthe3ChannelLow(Enum):\\n\"\n",
    "outstr_l += \"    \\\"\\\"\\\"\\n\"\n",
    "outstr_l += \"    Class indicating the lowest significant bit of a field\\n\"\n",
    "outstr_l += \"    Iteration will run through all addresses.\\n\"\n",
    "outstr_l += \"    \\\"\\\"\\\"\\n\"\n",
    "outstr_l += \"    _settings_ = NoAlias\\n\"\n",
    "outstr_l += '\\n'\n",
    "\n",
    "outstr_w += '\\n'\n",
    "outstr_w += \"\\n\"\n",
    "outstr_w += \"class Gthe3ChannelWidth(Enum):\\n\"\n",
    "outstr_w += \"    \\\"\\\"\\\"\\n\"\n",
    "outstr_w += \"    Class indicating the width of a field\\n\"\n",
    "outstr_w += \"    Iteration will run through all addresses.\\n\"\n",
    "outstr_w += \"    \\\"\\\"\\\"\\n\"\n",
    "outstr_w += \"    _settings_ = NoAlias\\n\"\n",
    "outstr_w += '\\n'\n",
    "\n",
    "for index, row in df.iterrows():\n",
    "    nam = row[columns[3]]\n",
    "    bits = row[columns[1]]\n",
    "    if (nam,bits) != (prev_nam, prev_bits):\n",
    "        m = single.match(bits)\n",
    "        if m:\n",
    "            low = int(m.groups()[0])\n",
    "            assert low in range(16)\n",
    "            width = 1\n",
    "            outstr_l += f\"    {nam} = {low}\\n\"\n",
    "            outstr_w += f\"    {nam} = {width}\\n\" # width is 1 in this case\n",
    "        else:\n",
    "            m = double.match(bits)\n",
    "            if m:\n",
    "                low = int(m.groups()[1])\n",
    "                high = int(m.groups()[0])\n",
    "                assert high > low\n",
    "                assert low in range(16)\n",
    "                assert high in range(16)\n",
    "                width = high - low + 1\n",
    "                outstr_l += f\"    {nam} = {low}\\n\"\n",
    "                outstr_w += f\"    {nam} = {width}\\n\"\n",
    "            else:\n",
    "                print('NOT FOUND!')\n",
    "    prev_nam = nam\n",
    "    prev_bits = bits\n",
    "\n",
    "\n",
    "with open(outputfile,'a') as f:\n",
    "    f.write(outstr_l)\n",
    "    f.write(outstr_w)"
   ]
  },
  {
   "cell_type": "markdown",
   "metadata": {},
   "source": [
    "# Common"
   ]
  },
  {
   "cell_type": "code",
   "execution_count": null,
   "metadata": {},
   "outputs": [],
   "source": [
    "df = df_common\n",
    "name = 'common'\n",
    "outputfile = f'../../modules/board_support_software/software/py/ru_gthe3_{name}_drp_mapping.py'"
   ]
  },
  {
   "cell_type": "markdown",
   "metadata": {},
   "source": [
    "### Handle duplicated cells"
   ]
  },
  {
   "cell_type": "code",
   "execution_count": null,
   "metadata": {},
   "outputs": [],
   "source": [
    "duplicates = []\n",
    "\n",
    "prev_nam = None\n",
    "for index, row in df.iterrows():\n",
    "    nam = row[columns[3]]\n",
    "    if nam in duplicates:\n",
    "        if nam != prev_nam:\n",
    "            df.iloc[index][columns[3]] += '_LOW'\n",
    "        else:\n",
    "            df.iloc[index][columns[3]] += '_HIGH'\n",
    "        print(df.iloc[index][columns[3]])\n",
    "    prev_nam = nam"
   ]
  },
  {
   "cell_type": "markdown",
   "metadata": {},
   "source": [
    "### Create File Header"
   ]
  },
  {
   "cell_type": "code",
   "execution_count": null,
   "metadata": {},
   "outputs": [],
   "source": [
    "outstr = \"\"\n",
    "outstr += f'\\\"\\\"\\\"Memory Mapping for the DRP port of the {name} auto-generated from\\n'\n",
    "outstr += f'https://www.xilinx.com/support/documentation/user_guides/ug576-ultrascale-gth-transceivers.pdf P352\\n'\n",
    "outstr += f'UG576 (v1.6) August 26, 2019\\\"\\\"\\\"\\n'\n",
    "outstr += '\\n'\n",
    "outstr += 'from aenum import Enum, NoAlias\\n'\n",
    "outstr += 'from enum import IntEnum\\n'\n",
    "outstr += '\\n'\n",
    "with open(outputfile,'w') as f:\n",
    "    f.write(outstr)"
   ]
  },
  {
   "cell_type": "markdown",
   "metadata": {},
   "source": [
    "### Create memory mapping"
   ]
  },
  {
   "cell_type": "code",
   "execution_count": null,
   "metadata": {},
   "outputs": [],
   "source": [
    "outstr_na = \"\"\n",
    "outstr_wa = \"\"\n",
    "\n",
    "prev_nam, prev_add = None, None\n",
    "\n",
    "outstr_na += \"class Gthe3CommonAddress(Enum):\\n\"\n",
    "outstr_na += \"    \\\"\\\"\\\"\\n\"\n",
    "outstr_na += \"    Class implementing the address as distinct elements.\\n\"\n",
    "outstr_na += \"    Iteration will run through all addresses.\\n\"\n",
    "outstr_na += \"    \\\"\\\"\\\"\\n\"\n",
    "outstr_na += \"    _settings_ = NoAlias\\n\"\n",
    "outstr_na += '\\n'\n",
    "\n",
    "outstr_wa += \"\\n\"   \n",
    "outstr_wa += \"\\n\"\n",
    "outstr_wa += \"class Gthe3CommonAddressAliases(IntEnum):\\n\"\n",
    "outstr_wa += \"    \\\"\\\"\\\"\\n\"\n",
    "outstr_wa += \"    Class implementing the address as distinct elements.\\n\"\n",
    "outstr_wa += \"    Iteration will run through each address only once.\\n\"\n",
    "outstr_wa += \"    \\\"\\\"\\\"\\n\"\n",
    "\n",
    "for index, row in df.iterrows():\n",
    "    nam = row[columns[3]]\n",
    "    add = int(row[columns[0]][:-1],16)\n",
    "    if (nam,add) != (prev_nam, prev_add):\n",
    "        msg = f\"    {nam} = {add}\\n\"\n",
    "        outstr_na += msg\n",
    "        outstr_wa += msg\n",
    "    prev_nam = nam\n",
    "    prev_add = add\n",
    "\n",
    "with open(outputfile,'a') as f:\n",
    "    f.write(outstr_na)\n",
    "    f.write(outstr_wa)"
   ]
  },
  {
   "cell_type": "code",
   "execution_count": null,
   "metadata": {},
   "outputs": [],
   "source": [
    "outstr_l = \"\"\n",
    "outstr_w = \"\"\n",
    "\n",
    "prev_nam, prev_bits = None, None\n",
    "outstr_l += \"\\n\"   \n",
    "outstr_l += \"\\n\"\n",
    "outstr_l += \"class Gthe3CommonLow(Enum):\\n\"\n",
    "outstr_l += \"    \\\"\\\"\\\"\\n\"\n",
    "outstr_l += \"    Class indicating the lowest significant bit of a field\\n\"\n",
    "outstr_l += \"    Iteration will run through all addresses.\\n\"\n",
    "outstr_l += \"    \\\"\\\"\\\"\\n\"\n",
    "outstr_l += \"    _settings_ = NoAlias\\n\"\n",
    "outstr_l += '\\n'\n",
    "\n",
    "outstr_w += '\\n'\n",
    "outstr_w += \"\\n\"\n",
    "outstr_w += \"class Gthe3CommonWidth(Enum):\\n\"\n",
    "outstr_w += \"    \\\"\\\"\\\"\\n\"\n",
    "outstr_w += \"    Class indicating the width of a field\\n\"\n",
    "outstr_w += \"    Iteration will run through all addresses.\\n\"\n",
    "outstr_w += \"    \\\"\\\"\\\"\\n\"\n",
    "outstr_w += \"    _settings_ = NoAlias\\n\"\n",
    "outstr_w += '\\n'\n",
    "\n",
    "for index, row in df.iterrows():\n",
    "    nam = row[columns[3]]\n",
    "    bits = row[columns[1]]\n",
    "    if (nam,bits) != (prev_nam, prev_bits):\n",
    "        m = single.match(bits)\n",
    "        if m:\n",
    "            low = int(m.groups()[0])\n",
    "            assert low in range(16)\n",
    "            width = 1\n",
    "            outstr_l += f\"    {nam} = {low}\\n\"\n",
    "            outstr_w += f\"    {nam} = {width}\\n\" # width is 1 in this case\n",
    "        else:\n",
    "            m = double.match(bits)\n",
    "            if m:\n",
    "                low = int(m.groups()[1])\n",
    "                high = int(m.groups()[0])\n",
    "                assert high > low\n",
    "                assert low in range(16)\n",
    "                assert high in range(16)\n",
    "                width = high - low + 1\n",
    "                outstr_l += f\"    {nam} = {low}\\n\"\n",
    "                outstr_w += f\"    {nam} = {width}\\n\"\n",
    "            else:\n",
    "                print('NOT FOUND!')\n",
    "    prev_nam = nam\n",
    "    prev_bits = bits\n",
    "\n",
    "\n",
    "with open(outputfile,'a') as f:\n",
    "    f.write(outstr_l)\n",
    "    f.write(outstr_w)"
   ]
  },
  {
   "cell_type": "code",
   "execution_count": null,
   "metadata": {},
   "outputs": [],
   "source": []
  }
 ],
 "metadata": {
  "kernelspec": {
   "display_name": "Python 3",
   "language": "python",
   "name": "python3"
  },
  "language_info": {
   "codemirror_mode": {
    "name": "ipython",
    "version": 3
   },
   "file_extension": ".py",
   "mimetype": "text/x-python",
   "name": "python",
   "nbconvert_exporter": "python",
   "pygments_lexer": "ipython3",
   "version": "3.7.1"
  }
 },
 "nbformat": 4,
 "nbformat_minor": 2
}
